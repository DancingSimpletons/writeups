{
 "cells": [
  {
   "cell_type": "markdown",
   "metadata": {},
   "source": [
    "Last year we lost millions of dollars on our casino. Today we suggest that you play in an updated one.\n",
    "\n",
    "- casino_server.py\n",
    "\n",
    "golden-antelope.quals.2018.volgactf.ru:8888"
   ]
  },
  {
   "cell_type": "markdown",
   "metadata": {},
   "source": [
    "```\n",
    "$ nc golden-antelope.quals.2018.volgactf.ru 8888                                                                                 Solve a puzzle: find an x such that 26 last bits of SHA1(x) are set, len(x)==29 and x[:24]=='ad0a95ef655bd426ce7b4d4d'\n",
    "```\n",
    "\n",
    "Ah, a proof of work calculation. There may be a way to do this efficiently with hashcat, but we've gone for a C# based brute-forcer. With some help from Google Cloud, this helps solve the POS in a few minutes.\n",
    "\n",
    "```c#\n",
    "private static string FindMatchingData(string prefix)\n",
    "{\n",
    "    if (prefix.Length == 29)\n",
    "    {\n",
    "        var result = calculateHash(prefix);\n",
    "        // last 26 bits set: 03 ff ff ff\n",
    "        if (\n",
    "            ((result[16] & 0x03) == 0x03)) &&\n",
    "            ((result[17] & 0xff) == 0xff) &&\n",
    "            ((result[18] & 0xff) == 0xff) &&\n",
    "            ((result[19] & 0xff) == 0xff))\n",
    "        {\n",
    "            Console.WriteLine(\"Input: \" + prefix);\n",
    "            Console.WriteLine(\"Output: \" + String.Join(\" \", result.Select(x => x.ToString(\"X2\"))));\n",
    "            return prefix;\n",
    "        }\n",
    "        return null;\n",
    "    }\n",
    "\n",
    "    // limit the search to printable characters\n",
    "    for (int i = 32; i < 127; i++)\n",
    "    {\n",
    "        var r = FindMatchingData(prefix + (char)i);\n",
    "        if (r != null) return r;\n",
    "    }\n",
    "    \n",
    "    return null;\n",
    "}\n",
    "```"
   ]
  },
  {
   "cell_type": "markdown",
   "metadata": {},
   "source": [
    "Enter the value and claim your fla...\n",
    "\n",
    "```\n",
    "Welcome to Guess-a-number game at VolgaCTF \"Golden Antelope\" Grand Casino!\n",
    "Your stack: 30\n",
    "\n",
    "Guess a number in range [0, 256):\n",
    "0\n",
    "Wrong. The number was 148. Your stack: 29\n",
    "\n",
    "```\n",
    "\n",
    "Oh. \n",
    "\n",
    "Instead, take a look at the provided `casino_server.py`, where we find a set of LFSRs:\n",
    "\n",
    "```python\n",
    "class Generator:\n",
    "    def __init__(self, state):\n",
    "        self.state = state\n",
    "\n",
    "    def next_state(self, idxs):\n",
    "        self.idxs = idxs\n",
    "        y = 0\n",
    "        for i in self.idxs:\n",
    "            y ^= self.state[i]\n",
    "        out = self.state[31]\n",
    "        for i in range(31, 0, -1):\n",
    "            self.state[i] = self.state[i - 1]\n",
    "        self.state[0] = y\n",
    "\n",
    "RX = Generator([32 random bits])\n",
    "RA = Generator([32 random bits])\n",
    "RB = Generator([32 random bits])\n",
    "\n",
    "while gambling:\n",
    "    RX.next_state(X)\n",
    "    if RX.state[29] == 0:\n",
    "        RA.next_state(A0)\n",
    "    else:\n",
    "        RA.next_state(A1)\n",
    "    if RX.state[26] == 0:\n",
    "        RB.next_state(B)\n",
    "    else:\n",
    "        RB.next_state(B)\n",
    "        RB.next_state(B)\n",
    "    \n",
    "    next_random_number = some_function_of(RX.state, RA.state, RB.state)\n",
    "```"
   ]
  },
  {
   "cell_type": "markdown",
   "metadata": {},
   "source": [
    "To solve this puzzle, we need to recover all 32*3 = 96 bytes of random data. We do this by iteratively building a list of hypotheses for the N rightmost bits of a given generator, and pruning hypotheses that are not consistent with the returned random number. For every next random number, three or four bits of randomness are added, while we retrieve 8 more bits of information. \n",
    "\n",
    "We start by retrieving a set of number from the casino:"
   ]
  },
  {
   "cell_type": "code",
   "execution_count": 2,
   "metadata": {
    "collapsed": true
   },
   "outputs": [],
   "source": [
    "random_values = [\n",
    "    148, 100, 34, 241, 145,\n",
    "    44, 186, 162, 3, 112,\n",
    "    246, 180, 241, 145, 170,\n",
    "    21, 136, 140, 3, 154,\n",
    "    40, 172, 134, 185, 218]"
   ]
  },
  {
   "cell_type": "markdown",
   "metadata": {},
   "source": [
    "And then prepare hypotheses based on the first random number:"
   ]
  },
  {
   "cell_type": "code",
   "execution_count": 5,
   "metadata": {
    "collapsed": true
   },
   "outputs": [],
   "source": [
    "# from casino_server.py\n",
    "L = [0xf1, 0xef, 0x29, 0xbe, 0xb8, 0xf6, 0x4f, 0xaf, 0xb2, 0x92, 0xe3, 0xfc, 0xc6, 0x72, 0x48, 0xc3,\n",
    "         0xbf, 0xa0, 0x10, 0xd1, 0x23, 0x34, 0x0c, 0x07, 0x7c, 0xf8, 0xae, 0xe8, 0xc9, 0xe1, 0x38, 0x36,\n",
    "         0x4c, 0x2c, 0x0b, 0x70, 0x7b, 0xe7, 0xd7, 0xc5, 0xac, 0x57, 0xab, 0xd5, 0x4b, 0x77, 0xa5, 0xce,\n",
    "         0xee, 0xf4, 0x47, 0x25, 0x8a, 0xf3, 0xfd, 0xbb, 0x5c, 0xe0, 0x2a, 0x19, 0x5d, 0xeb, 0xa6, 0x81,\n",
    "         0x12, 0x61, 0x59, 0xcf, 0xc8, 0xa8, 0xfe, 0x3e, 0x31, 0x1e, 0x46, 0x7e, 0x3d, 0xd0, 0x3c, 0xc7,\n",
    "         0xdc, 0x33, 0x8f, 0xca, 0x78, 0x6f, 0x0d, 0x62, 0x9d, 0xd9, 0x89, 0x73, 0x8c, 0x4e, 0xb7, 0xc0,\n",
    "         0x03, 0x56, 0xb9, 0x79, 0x75, 0xda, 0x6e, 0x1c, 0xff, 0x67, 0x2f, 0xbc, 0x69, 0x91, 0x2b, 0x9b,\n",
    "         0x7f, 0x17, 0x01, 0xde, 0xfa, 0x4a, 0x02, 0x0e, 0x8b, 0xa9, 0x58, 0x2d, 0xd8, 0xf9, 0x3b, 0xb3, \n",
    "         0x49, 0x65, 0xcc, 0xa3, 0xbd, 0x16, 0x21, 0xd3, 0xe5, 0xd6, 0x42, 0x60, 0x4d, 0x20, 0x97, 0x5e, \n",
    "         0x2e, 0xe9, 0x18, 0xc2, 0x63, 0x64, 0xf5, 0x6a, 0xd2, 0x68, 0x1b, 0x1f, 0xc4, 0xea, 0x74, 0xa2, \n",
    "         0x45, 0x82, 0xb6, 0x32, 0x84, 0xed, 0x50, 0x26, 0xcb, 0x5f, 0x37, 0xa1, 0x15, 0xa4, 0x51, 0x53, \n",
    "         0xb4, 0x09, 0xaa, 0x1a, 0x14, 0x43, 0xba, 0xdf, 0x87, 0x66, 0x85, 0x52, 0x3a, 0x28, 0x9a, 0xb1, \n",
    "         0x44, 0x9f, 0x96, 0x41, 0xdd, 0x86, 0x88, 0x9e, 0x71, 0xb0, 0x13, 0x98, 0xe4, 0x05, 0xf7, 0x6c, \n",
    "         0xb5, 0x93, 0x8e, 0x55, 0xec, 0x8d, 0xf2, 0x6d, 0x9c, 0xa7, 0xad, 0x00, 0x08, 0xf0, 0xe6, 0x6b, \n",
    "         0x7a, 0xcd, 0xfb, 0x80, 0x0a, 0x83, 0x27, 0x39, 0x30, 0x06, 0x76, 0x90, 0x94, 0x35, 0x54, 0x04, \n",
    "         0x0f, 0xc1, 0x5b, 0x99, 0x11, 0x40, 0x5a, 0xd4, 0xe2, 0x95, 0x3f, 0x22, 0x7d, 0x24, 0x1d, 0xdb]\n",
    "\n",
    "def H(state):\n",
    "    return int(\"\".join(map(str, bin(state)[2:].zfill(32)[-1:-9:-1])), 2)"
   ]
  },
  {
   "cell_type": "code",
   "execution_count": 18,
   "metadata": {
    "collapsed": false
   },
   "outputs": [
    {
     "data": {
      "text/plain": [
       "65536"
      ]
     },
     "execution_count": 18,
     "metadata": {},
     "output_type": "execute_result"
    }
   ],
   "source": [
    "first_value = random_values[0]\n",
    "\n",
    "# build hypotheses where (H(RX.state) + L[H(RA.state)] + L[H(RB.state)]) % 256 == first entry\n",
    "\n",
    "hypotheses = [\n",
    "    # x-seed, x-shift, a-seed, a-shift, b-seed, b-shift\n",
    "    (x, 0, a, 0, b, 0)\n",
    "    for x in range(256)\n",
    "    for a in range(256)\n",
    "    for b in range(256)\n",
    "    if ((H(x) + L[H(a)] + L[H(b)]) % 256) == first_value\n",
    "]\n",
    "\n",
    "len(hypotheses)"
   ]
  },
  {
   "cell_type": "markdown",
   "metadata": {},
   "source": [
    "We can now iteratively add hypotheses for the additional bits, and then prune them in the same manner."
   ]
  },
  {
   "cell_type": "code",
   "execution_count": 7,
   "metadata": {
    "collapsed": true
   },
   "outputs": [],
   "source": [
    "def next_hypotheses(hypotheses, next_value):\n",
    "    new_hypotheses = []\n",
    "    \n",
    "    for x, xshift, a, ashift, b, bshift in hypotheses:\n",
    "        # x_0 is the unshifted (seed) hypothesis, while x_1 is the value of x\n",
    "        # used for the generation of the current random number. The same applies\n",
    "        # for a_0/a_1 and b_0/b_1.\n",
    "        for x_0 in [x, x + 2**(xshift+8)]:\n",
    "            x_1 = x_0 >> (xshift + 1)\n",
    "            \n",
    "            for a_0 in [a, a + 2**(ashift+8)]:\n",
    "                a_1 = a_0 >> (ashift + 1)\n",
    "                \n",
    "                if bin(x_1)[2:].zfill(6)[-6] == \"0\":  # if RX.state[26] == 0:\n",
    "                    shift = 1\n",
    "                    b_opts = [b, b + 2**(bshift+8)]\n",
    "                else:\n",
    "                    # if we shift twice, we add two bits, so there are four options\n",
    "                    shift = 2\n",
    "                    b_opts = [b, b + 2**(bshift+8), b + 2**(bshift+9), b + 2**(bshift+8) + 2**(bshift+9)]\n",
    "\n",
    "                for b_0 in b_opts:\n",
    "                    b_1 = b_0 >> (bshift + shift)\n",
    "                    true_number = (H(x_1) + L[H(a_1)] + L[H(b_1)]) % 256\n",
    "                    if true_number == next_value:\n",
    "                        new_hypotheses.append((x_0, xshift + 1, a_0, ashift + 1, b_0, bshift + shift))\n",
    "\n",
    "    return new_hypotheses"
   ]
  },
  {
   "cell_type": "code",
   "execution_count": 19,
   "metadata": {
    "collapsed": false
   },
   "outputs": [
    {
     "name": "stdout",
     "output_type": "stream",
     "text": [
      "Value: 100, hypotheses left: 3033\n",
      "Value:  34, hypotheses left:  150\n",
      "Value: 241, hypotheses left:   12\n",
      "Value: 145, hypotheses left:    1\n",
      "Value:  44, hypotheses left:    1\n",
      "Value: 186, hypotheses left:    1\n",
      "Value: 162, hypotheses left:    1\n",
      "Value:   3, hypotheses left:    1\n",
      "Value: 112, hypotheses left:    1\n",
      "Value: 246, hypotheses left:    1\n",
      "Value: 180, hypotheses left:    1\n",
      "Value: 241, hypotheses left:    1\n",
      "Value: 145, hypotheses left:    1\n",
      "Value: 170, hypotheses left:    1\n",
      "Value:  21, hypotheses left:    1\n",
      "Value: 136, hypotheses left:    1\n",
      "Value: 140, hypotheses left:    1\n",
      "Value:   3, hypotheses left:    1\n",
      "Value: 154, hypotheses left:    1\n",
      "Value:  40, hypotheses left:    1\n",
      "Value: 172, hypotheses left:    1\n",
      "Value: 134, hypotheses left:    1\n",
      "Value: 185, hypotheses left:    1\n",
      "Value: 218, hypotheses left:    1\n"
     ]
    }
   ],
   "source": [
    "for rv in random_values[1:]:\n",
    "    hypotheses = next_hypotheses(hypotheses, rv)\n",
    "    print(\"Value: {:3d}, hypotheses left: {:4d}\".format(rv, len(hypotheses)))"
   ]
  },
  {
   "cell_type": "markdown",
   "metadata": {},
   "source": [
    "One hypothesis left -- nice! We now retrieve the seeds for the generators:"
   ]
  },
  {
   "cell_type": "code",
   "execution_count": 22,
   "metadata": {
    "collapsed": false
   },
   "outputs": [
    {
     "name": "stdout",
     "output_type": "stream",
     "text": [
      "X seed: 495831187\n",
      "A seed: 880281027\n",
      "B seed: 6873053221420\n",
      "\n",
      "Shifts (should be >= 24): X 24, A 24, B 36\n"
     ]
    }
   ],
   "source": [
    "seed_x, shift_x, seed_a, shift_a, seed_b, shift_b = hypotheses[0]\n",
    "print(\"X seed: {}\".format(seed_x))\n",
    "print(\"A seed: {}\".format(seed_a))\n",
    "print(\"B seed: {}\".format(seed_b))\n",
    "print()\n",
    "print(\"Shifts (should be >= 24): X {}, A {}, B {}\".format(shift_x, shift_a, shift_b))"
   ]
  },
  {
   "cell_type": "markdown",
   "metadata": {},
   "source": [
    "We then fill these into the setup of `casino_server.py`:\n",
    "    \n",
    "```python\n",
    "RX = Generator([int(i) for i in bin(495831187).split('b')[1][-32:].zfill(32)])\n",
    "RA = Generator([int(i) for i in bin(880281027).split('b')[1][-32:].zfill(32)])\n",
    "RB = Generator([int(i) for i in bin(6873053221420).split('b')[1][-32:].zfill(32)])\n",
    "```\n",
    "\n",
    "and generate enough random numbers to bring the score to 108:\n",
    "    \n",
    "```\n",
    "Congratulations! Your stack: 108\n",
    "Your flag: VolgaCTF{T@ke_the_M0n3y_4nd_Run}\n",
    "```"
   ]
  }
 ],
 "metadata": {
  "anaconda-cloud": {},
  "kernelspec": {
   "display_name": "Python [conda root]",
   "language": "python",
   "name": "conda-root-py"
  },
  "language_info": {
   "codemirror_mode": {
    "name": "ipython",
    "version": 3
   },
   "file_extension": ".py",
   "mimetype": "text/x-python",
   "name": "python",
   "nbconvert_exporter": "python",
   "pygments_lexer": "ipython3",
   "version": "3.5.2"
  }
 },
 "nbformat": 4,
 "nbformat_minor": 1
}
