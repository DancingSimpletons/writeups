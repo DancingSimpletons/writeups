{
 "cells": [
  {
   "cell_type": "markdown",
   "metadata": {},
   "source": [
    "Just do it.\n",
    "\n",
    "Attachments:\n",
    "- CrackMe.exe \n",
    "- CrackMe.txt\n",
    "\n",
    "```\n",
    "$ wget https://quals.2018.volgactf.ru/files/fb8e084723ececc80d62516abc53fb46/CrackMe.exe\n",
    "$ file CrackMe.exe\n",
    "CrackMe.exe: PE32 executable (console) Intel 80386 Mono/.Net assembly, for MS Windows\n",
    "\n",
    "$ wget https://quals.2018.volgactf.ru/files/0f470ab2c54b60a74de77296be6bb841/CrackMe.txt\n",
    "$ hexdump -C CrackMe.txt\n",
    "00000000  76 60 fe 32 69 da 17 bd  b3 0e ec 07 a2 41 35 19  |v`.2i........A5.|\n",
    "00000010  2f 5d 9a ef 15 f7 07 86  85 45 5c 88 bd cb 14 d9  |/].......E\\.....|\n",
    "00000020  49 21 bb 9c 7d 7f b0 65  5a ae a1 02 53 a8 ac 91  |I!..}..eZ...S...|\n",
    "00000030  e9 eb 82 46 a5 88 25 59  4a 0b 35 48 33 5d ef e2  |...F..%YJ.5H3]..|\n",
    "00000040\n",
    "```\n",
    "\n",
    "Open `CrackMe.exe` in [dotpeek](https://www.jetbrains.com/decompiler/). There, we find:\n",
    "\n",
    "```c#\n",
    "internal class Program\n",
    "{\n",
    "  private static void Main(string[] args)\n",
    "  {\n",
    "    [...]\n",
    "    CryptoOperation crypto = new CryptoOperation();\n",
    "    crypto.FileName = path;\n",
    "    crypto.UserPassword = str1;\n",
    "    [...]\n",
    "    Program.Decrypt(crypto, outputFile);\n",
    "  }\n",
    "\n",
    "  private static void Decrypt(CryptoOperation crypto, string outputFile)\n",
    "  {\n",
    "    crypto.ParseFileToDecrypt();\n",
    "    byte[] buffer = crypto.DecryptFile();\n",
    "    [...]\n",
    "  }\n",
    "}\n",
    "\n",
    "internal class CryptoOperation\n",
    "{\n",
    "  [...]\n",
    "  public string UserPassword\n",
    "  {\n",
    "    set\n",
    "    {\n",
    "      this.KeyLength = 16;\n",
    "      this.UserKey = this.CombineKeys(MD5.Create().ComputeHash(Encoding.UTF8.GetBytes(value)));\n",
    "    }\n",
    "  }\n",
    "  \n",
    "  private byte[] CombineKeys(byte[] UserKey)\n",
    "  {\n",
    "    [see below]\n",
    "  }\n",
    "  \n",
    "  public byte[] DecryptFile()\n",
    "  {\n",
    "    byte[] numArray = (byte[]) null;\n",
    "    using (AesCryptoServiceProvider cryptoServiceProvider = new AesCryptoServiceProvider())\n",
    "    {\n",
    "      cryptoServiceProvider.Key = this.UserKey;\n",
    "      cryptoServiceProvider.IV = this.IV;\n",
    "      \n",
    "      [... decrypt with given Key and IV ...]\n",
    "    }\n",
    "  }\n",
    "  \n",
    "  public void ParseFileToDecrypt()\n",
    "  {\n",
    "    byte[] numArray1 = File.ReadAllBytes(this.FileName);\n",
    "    byte[] numArray2 = new byte[16];\n",
    "    Array.Copy((Array) numArray1, 0, (Array) numArray2, 0, 16);\n",
    "    this.IV = numArray2;\n",
    "    this.ProcessingBytes = new byte[numArray1.Length - 16];\n",
    "    Array.Copy((Array) numArray1, 16, (Array) this.ProcessingBytes, 0, this.ProcessingBytes.Length);\n",
    "  }\n",
    "}\n",
    "```\n"
   ]
  },
  {
   "cell_type": "markdown",
   "metadata": {},
   "source": [
    "We thus learn that the main operation does the following:\n",
    "```c#\n",
    "CryptoOperation crypto = new CryptoOperation();\n",
    "crypto.FileName = path;\n",
    "crypto.UserPassword = str1; // this calls CombineKeys to derive the Key\n",
    "crypto.ParseFileToDecrypt(); // this loads the IV and the data from the file\n",
    "byte[] buffer = crypto.DecryptFile(); // performs actual decryption\n",
    "```\n",
    "\n",
    "So let's take a better look at the key derivation function:\n",
    "```c#\n",
    "    private byte[] CombineKeys(byte[] UserKey)\n",
    "    {\n",
    "      byte[] bytes1 = Encoding.UTF8.GetBytes(new AppSettings().DefaultKey);\n",
    "      long int64_1 = BitConverter.ToInt64(bytes1, 0);\n",
    "      long int64_2 = BitConverter.ToInt64(bytes1, 8);\n",
    "      long int64_3 = BitConverter.ToInt64(UserKey, 0);\n",
    "      long int64_4 = BitConverter.ToInt64(UserKey, 8);\n",
    "      long num1 = int64_1 ^ int64_3;\n",
    "      long num2 = int64_2 ^ int64_4;\n",
    "      long num3 = ~int64_1 & int64_3 | ~int64_3 & int64_1;\n",
    "      long num4 = ~int64_2 & int64_4 | ~int64_4 & int64_2;\n",
    "      int int32_1 = BitConverter.ToInt32(BitConverter.GetBytes(num1), 0);\n",
    "      int int32_2 = BitConverter.ToInt32(BitConverter.GetBytes(num1), 4);\n",
    "      int int32_3 = BitConverter.ToInt32(BitConverter.GetBytes(num2), 0);\n",
    "      BitConverter.ToInt32(BitConverter.GetBytes(num2), 4);\n",
    "      int num5 = int32_1 >> 2;\n",
    "      int num6 = int32_2 >> 2;\n",
    "      int num7 = num5 << 1;\n",
    "      int num8 = num6 << 1;\n",
    "      int num9 = num7 << 1;\n",
    "      int num10 = int32_3 >> 2;\n",
    "      num10 = num7 << 1;\n",
    "      int num11 = num9 >> 2;\n",
    "      int num12;\n",
    "      int num13;\n",
    "      if (~(num7 & num11) == (~num7 | ~num11))\n",
    "      {\n",
    "        num12 = num8;\n",
    "        if (~~num3 != num1 && ~~num4 != num2)\n",
    "          num8 = num11;\n",
    "        else\n",
    "          num11 = num8;\n",
    "        num13 = ~num11;\n",
    "      }\n",
    "      else\n",
    "      {\n",
    "        num12 = num7;\n",
    "        if (~~num3 == num1 && ~~num4 == num2)\n",
    "          num8 = num11;\n",
    "        else\n",
    "          num11 = num8;\n",
    "        num13 = ~num8;\n",
    "      }\n",
    "      byte[] bytes2 = BitConverter.GetBytes(~num13);\n",
    "      byte[] bytes3 = BitConverter.GetBytes(num8);\n",
    "      byte[] bytes4 = BitConverter.GetBytes(num12);\n",
    "      byte[] bytes5 = BitConverter.GetBytes(num11);\n",
    "      byte[] numArray = new byte[16];\n",
    "      for (int index = 0; index < 4; ++index)\n",
    "      {\n",
    "        numArray[index] = bytes2[index];\n",
    "        numArray[index + 4] = bytes3[index];\n",
    "        numArray[index + 8] = bytes4[index];\n",
    "        numArray[index + 12] = bytes5[index];\n",
    "      }\n",
    "      return numArray;\n",
    "    }\n",
    "```"
   ]
  },
  {
   "cell_type": "markdown",
   "metadata": {},
   "source": [
    "This looks a bit overwhelming, but it's not too bad. Let's go through the code step by step.\n",
    "\n",
    "```c#\n",
    "byte[] UserKey;\n",
    "byte[] bytes1 = Encoding.UTF8.GetBytes(new AppSettings().DefaultKey); // fixed value: f1k4bv6gsy?MEW!!\n",
    "```\n",
    "\n",
    "The code then splits each of the keys up into 64-bit (8-byte) integers, which we will call `U8a`, `U8b`, `D8a` and `D8b`\n",
    "```\n",
    "long int64_1 = BitConverter.ToInt64(bytes1, 0);     // D8a\n",
    "long int64_2 = BitConverter.ToInt64(bytes1, 8);     // D8b\n",
    "long int64_3 = BitConverter.ToInt64(UserKey, 0);    // U8a\n",
    "long int64_4 = BitConverter.ToInt64(UserKey, 8);    // U8b\n",
    "```\n",
    "\n",
    "```\n",
    "long num1 = int64_1 ^ int64_3; // D8a ⊕ U8a\n",
    "long num2 = int64_2 ^ int64_4; // D8b ⊕ U8b\n",
    "```\n",
    "\n",
    "```\n",
    "long num3 = ~int64_1 & int64_3 | ~int64_3 & int64_1;\n",
    "long num4 = ~int64_2 & int64_4 | ~int64_4 & int64_2;\n",
    "```\n",
    "\n",
    "To solve these, it's easiest to build a quick truth table:\n",
    "\n",
    "| A | B | ~A & B | ~B & A | result |\n",
    "|---|---|--------|--------|--------|\n",
    "| 0 | 0 | 0      | 0      | 0      |\n",
    "| 0 | 1 | 1      | 0      | 1      |\n",
    "| 1 | 0 | 0      | 1      | 1      |\n",
    "| 1 | 1 | 0      | 0      | 0      |\n",
    "\n",
    "so these are just XORs as well:\n",
    "\n",
    "```\n",
    "long num3 = ~int64_1 & int64_3 | ~int64_3 & int64_1;  // D8a ⊕ U8a\n",
    "long num4 = ~int64_2 & int64_4 | ~int64_4 & int64_2;  // D8b ⊕ U8b\n",
    "```\n",
    "\n",
    "We now re-interpret all the bytes as 4-byte integers instead. We will call these D4a..D4d and U4a..U4d. Note that D4a and D4b are the first and last 32 bits from D8a.\n",
    "\n",
    "```\n",
    "int int32_1 = BitConverter.ToInt32(BitConverter.GetBytes(num1), 0); // D4a ⊕ U4a\n",
    "int int32_2 = BitConverter.ToInt32(BitConverter.GetBytes(num1), 4); // D4b ⊕ U4b\n",
    "int int32_3 = BitConverter.ToInt32(BitConverter.GetBytes(num2), 0); // D4c ⊕ U4c\n",
    "```\n",
    "\n",
    "Now for some bitfiddling:\n",
    "```\n",
    "int num5 = int32_1 >> 2;  // (D4a ⊕ U4a) >> 2\n",
    "int num6 = int32_2 >> 2;  // (D4b ⊕ U4b) >> 2\n",
    "int num7 = num5 << 1;     // (D4a ⊕ U4a) >> 2 << 1\n",
    "int num8 = num6 << 1;     // (D4b ⊕ U4b) >> 2 << 1\n",
    "int num9 = num7 << 1;     // (D4a ⊕ U4a) >> 2 << 2\n",
    "int num10 = int32_3 >> 2; // (D4c ⊕ U4c) >> 2\n",
    "num10 = num7 << 1;        // (D4a ⊕ U4a) >> 2 << 2\n",
    "int num11 = num9 >> 2;    // (D4a ⊕ U4a) >> 2\n",
    "```"
   ]
  },
  {
   "cell_type": "markdown",
   "metadata": {},
   "source": [
    "We end up at a branch:\n",
    "```c#\n",
    "if (~(num7 & num11) == (~num7 | ~num11)) {...}\n",
    "```\n",
    "\n",
    "Again, using a truth table:\n",
    "\n",
    "| num7 | num11 | ~(num7 & num11) | (~num7 &#124; ~num11) | equal? |\n",
    "|------|-------|-----------------|-----------------------|--------|\n",
    "| 0    | 0     | 1               | 1                     | 1      |\n",
    "| 0    | 1     | 1               | 1                     | 1      |\n",
    "| 1    | 0     | 1               | 1                     | 1      |\n",
    "| 1    | 1     | 0               | 0                     | 1      |\n",
    "\n",
    "So we always enter this branch.\n",
    "\n",
    "```c#\n",
    "num12 = num8;   // (D4b ⊕ U4b) >> 2 << 1\n",
    "```\n",
    "\n",
    "Again a branch:\n",
    "```c#\n",
    "if (~~num3 != num1 && ~~num4 != num2)   // ( (D8a ⊕ U8a) != (D8a ⊕ U8a) && (D8b ⊕ U8b) != (D8b ⊕ U8b) )\n",
    "```\n",
    "This is clearly always false, so we execute\n",
    "\n",
    "```c#\n",
    "num11 = num8;   // (D4b ⊕ U4b) >> 2 << 1\n",
    "```\n",
    "\n",
    "then\n",
    "```c#\n",
    "num13 = ~num11; // ~((D4b ⊕ U4b) >> 2 << 1)\n",
    "```\n",
    "\n",
    "The calculated values are then stacked in a byte array:\n",
    "```c#\n",
    "byte[] bytes2 = BitConverter.GetBytes(~num13);  // (D4b ⊕ U4b) >> 2 << 1\n",
    "byte[] bytes3 = BitConverter.GetBytes(num8);    // (D4b ⊕ U4b) >> 2 << 1\n",
    "byte[] bytes4 = BitConverter.GetBytes(num12);   // (D4b ⊕ U4b) >> 2 << 1 \n",
    "byte[] bytes5 = BitConverter.GetBytes(num11);   // (D4b ⊕ U4b) >> 2 << 1\n",
    "\n",
    "byte[] numArray = new byte[16];\n",
    "for (int index = 0; index < 4; ++index)\n",
    "{\n",
    "  numArray[index] = bytes2[index];\n",
    "  numArray[index + 4] = bytes3[index];\n",
    "  numArray[index + 8] = bytes4[index];\n",
    "  numArray[index + 12] = bytes5[index];\n",
    "}\n",
    "return numArray;\n",
    "```      \n",
    "\n",
    "__Note: The following is how we found the solution, but the argument is not correct. Scroll further down for details__\n",
    "\n",
    "So that at the end of this, our 16 byte key consists of the same 4-byte value repeated four times. In addition, due to the bitshifting, we know that the highest and lowest bit of this value are 0. This reduces the key space to $2^{30}$, which is large but not insurmountable."
   ]
  },
  {
   "cell_type": "markdown",
   "metadata": {},
   "source": [
    "To crack the key, first read the IV and data from the data file:"
   ]
  },
  {
   "cell_type": "code",
   "execution_count": 8,
   "metadata": {
    "collapsed": false
   },
   "outputs": [
    {
     "data": {
      "text/plain": [
       "48"
      ]
     },
     "execution_count": 8,
     "metadata": {},
     "output_type": "execute_result"
    }
   ],
   "source": [
    "import requests\n",
    "\n",
    "crackme_txt = requests.get(\n",
    "    \"https://quals.2018.volgactf.ru/files/0f470ab2c54b60a74de77296be6bb841/CrackMe.txt\",\n",
    "    stream=True).raw.read()\n",
    "\n",
    "IV = crackme_txt[:16]\n",
    "data = crackme_txt[16:]\n",
    "\n",
    "len(data)"
   ]
  },
  {
   "cell_type": "markdown",
   "metadata": {},
   "source": [
    "Then we simply enumerate the keyspace. We know the highest and lowest bit are 0, which means that we want to:"
   ]
  },
  {
   "cell_type": "code",
   "execution_count": 9,
   "metadata": {
    "collapsed": false
   },
   "outputs": [
    {
     "data": {
      "text/plain": [
       "1073741824"
      ]
     },
     "execution_count": 9,
     "metadata": {},
     "output_type": "execute_result"
    }
   ],
   "source": [
    "keys = range(\n",
    "    0b00000000000000000000000000000000,\n",
    "    0b10000000000000000000000000000000, # not inclusive\n",
    "                                  0b10\n",
    ")\n",
    "len(keys)"
   ]
  },
  {
   "cell_type": "markdown",
   "metadata": {},
   "source": [
    "We then assume the decrypted data starts with \"Volga\", and try every key:"
   ]
  },
  {
   "cell_type": "code",
   "execution_count": 10,
   "metadata": {
    "collapsed": false
   },
   "outputs": [
    {
     "name": "stdout",
     "output_type": "stream",
     "text": [
      "b'BDR\\xf6BDR\\xf6BDR\\xf6BDR\\xf6' b'VolgaCTF{my_little_cat_solved_this_much_faster}\\x01'\n"
     ]
    }
   ],
   "source": [
    "from Crypto.Cipher import AES\n",
    "\n",
    "for i in keys:\n",
    "    key = i.to_bytes(4, \"big\") * 4\n",
    "    obj = AES.new(key, AES.MODE_CBC, IV)\n",
    "    dec = obj.decrypt(data)\n",
    "    if (dec.startswith(b\"Volga\")):\n",
    "        print(key, dec)\n",
    "        break"
   ]
  },
  {
   "cell_type": "markdown",
   "metadata": {
    "collapsed": true
   },
   "source": [
    "__Note: The derivation above is not correct__\n",
    "\n",
    "MatthiasHeinz [noted](https://github.com/DancingSimpletons/writeups/issues/1) that the above argument about the MSB and LSB being zero is incorrect -- a right shift on a negative number would add an extra 1 bit on the left. While investigating this in more detail, we noticed there was a bigger flaw with the above code: we did not correctly get the keybytes as little endian.\n",
    "\n",
    "As the right shift will add a bit equal to the old left most bit, the bitmask of the solution should be\n",
    "\n",
    "`aa?????? ???????? ???????? ???????0`.\n",
    "\n",
    "However, as [System.BitConverter](https://docs.microsoft.com/en-gb/dotnet/api/system.bitconverter.getbytes?view=netframework-4.7.1#System_BitConverter_GetBytes_System_Int32_) uses the endianness of the system, the key bytes will actually look like\n",
    "\n",
    "`???????0 ???????? ???????? aa??????`.\n",
    "\n",
    "For this challenge, we were lucky the solution actually matched both this mask and the flawed\n",
    "\n",
    "`0??????? ???????? ???????? ???????0`\n",
    "\n",
    "mask, as the solution was\n",
    "\n",
    "`01000010 01000100 01010010 11110110`.\n",
    "\n",
    "To correctly loop over the solutions, we should have generated the following range:\n",
    "\n",
    "```\n",
    "C0 00 00 00 ... FF FF FF FE (first two bits 1, last bit 0: -1073741824 ... -2, steps of 2)\n",
    "00 00 00 00 ... 4F FF FF FE (first two bits 0, last bit 0: 0 ... 1342177278, steps of 2)\n",
    "```\n",
    "\n",
    "and this number should have been interpreted as little endian to form the key:"
   ]
  },
  {
   "cell_type": "code",
   "execution_count": 3,
   "metadata": {
    "collapsed": false
   },
   "outputs": [
    {
     "data": {
      "text/plain": [
       "True"
      ]
     },
     "execution_count": 3,
     "metadata": {},
     "output_type": "execute_result"
    }
   ],
   "source": [
    "keys = range(-1073741824, 1342177278+1, 2)\n",
    "\n",
    "int.from_bytes(b'BDR\\xf6', 'little', signed=True) in keys"
   ]
  },
  {
   "cell_type": "code",
   "execution_count": 9,
   "metadata": {
    "collapsed": false
   },
   "outputs": [
    {
     "name": "stdout",
     "output_type": "stream",
     "text": [
      "b'BDR\\xf6BDR\\xf6BDR\\xf6BDR\\xf6' b'VolgaCTF{my_little_cat_solved_this_much_faster}\\x01'\n"
     ]
    }
   ],
   "source": [
    "for i in keys:\n",
    "    key = i.to_bytes(4, \"little\", signed=True) * 4  \n",
    "    obj = AES.new(key, AES.MODE_CBC, IV)\n",
    "    dec = obj.decrypt(data)\n",
    "    if (dec.startswith(b\"Volga\")):\n",
    "        print(key, dec)\n",
    "        break"
   ]
  }
 ],
 "metadata": {
  "anaconda-cloud": {},
  "kernelspec": {
   "display_name": "Python [conda root]",
   "language": "python",
   "name": "conda-root-py"
  },
  "language_info": {
   "codemirror_mode": {
    "name": "ipython",
    "version": 3
   },
   "file_extension": ".py",
   "mimetype": "text/x-python",
   "name": "python",
   "nbconvert_exporter": "python",
   "pygments_lexer": "ipython3",
   "version": "3.5.2"
  }
 },
 "nbformat": 4,
 "nbformat_minor": 1
}
